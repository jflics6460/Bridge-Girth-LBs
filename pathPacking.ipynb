{
 "cells": [
  {
   "cell_type": "code",
   "execution_count": 74,
   "metadata": {},
   "outputs": [],
   "source": [
    "from dataclasses import dataclass\n",
    "import heapq"
   ]
  },
  {
   "cell_type": "markdown",
   "metadata": {},
   "source": [
    "# General setup code"
   ]
  },
  {
   "cell_type": "code",
   "execution_count": 75,
   "metadata": {},
   "outputs": [],
   "source": [
    "class Antichain:\n",
    "    def __init__(self, path: list[int]):\n",
    "        self.path = path\n",
    "        # self.path.sort() As written, things are sorted on generation\n",
    "        self.nodes = set(path)\n",
    "    \n",
    "    def will_not_break(self, other):\n",
    "        intersection = self.nodes & other.nodes\n",
    "        result = len(intersection) < 2\n",
    "        # print(\"---\")\n",
    "        # print(\"Call: will_not_break\")\n",
    "        # print(f\"self: {self}\")\n",
    "        # print(f\"other: {other}\")\n",
    "        # print(intersection)       \n",
    "        # print(result)\n",
    "        # print(\"---\")\n",
    "        return result\n",
    "\n",
    "    def __lt__(self, other):\n",
    "        return self.path < other.path\n",
    "\n",
    "    def __str__(self):\n",
    "        return self.path.__str__()\n",
    "    \n",
    "\n",
    "def greedy_pack(antichains):\n",
    "    paths = []\n",
    "    heapq.heapify(antichains)\n",
    "\n",
    "    while antichains:\n",
    "        smallest_antichain = heapq.heappop(antichains)\n",
    "        paths.append(smallest_antichain.path.copy())\n",
    "        antichains = [antichain for antichain in antichains if smallest_antichain.will_not_break(antichain)]\n",
    "        heapq.heapify(antichains)\n",
    "\n",
    "    return paths"
   ]
  },
  {
   "cell_type": "markdown",
   "metadata": {},
   "source": [
    "# Layered graph setup code"
   ]
  },
  {
   "cell_type": "code",
   "execution_count": 92,
   "metadata": {},
   "outputs": [],
   "source": [
    "def gen_layered_antichains(num_layers: int):\n",
    "    antichains = []\n",
    "    cur_path = []\n",
    "    def _gen_layered_antichains(cur_layer):\n",
    "        nonlocal cur_path\n",
    "        if cur_layer == num_layers:\n",
    "            antichains.append(Antichain(cur_path.copy()))\n",
    "            return\n",
    "        \n",
    "        cur_layer_start = cur_layer * num_layers\n",
    "        for node in range(cur_layer_start, cur_layer_start + num_layers):\n",
    "            cur_path.append(node)\n",
    "            _gen_layered_antichains(cur_layer + 1)\n",
    "            cur_path.pop()\n",
    "\n",
    "    _gen_layered_antichains(0)\n",
    "    return antichains\n"
   ]
  },
  {
   "cell_type": "markdown",
   "metadata": {},
   "source": [
    "# Layered path driver code"
   ]
  },
  {
   "cell_type": "code",
   "execution_count": 93,
   "metadata": {},
   "outputs": [],
   "source": [
    "graph = gen_layered_antichains(8)\n",
    "layered_paths = greedy_pack(graph)"
   ]
  },
  {
   "cell_type": "code",
   "execution_count": null,
   "metadata": {},
   "outputs": [
    {
     "name": "stdout",
     "output_type": "stream",
     "text": [
      "25\n"
     ]
    }
   ],
   "source": [
    "print(len(layered_paths))"
   ]
  }
 ],
 "metadata": {
  "kernelspec": {
   "display_name": "Python 3",
   "language": "python",
   "name": "python3"
  },
  "language_info": {
   "codemirror_mode": {
    "name": "ipython",
    "version": 3
   },
   "file_extension": ".py",
   "mimetype": "text/x-python",
   "name": "python",
   "nbconvert_exporter": "python",
   "pygments_lexer": "ipython3",
   "version": "3.11.4"
  }
 },
 "nbformat": 4,
 "nbformat_minor": 2
}
